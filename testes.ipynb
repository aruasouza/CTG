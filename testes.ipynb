{
 "cells": [
  {
   "cell_type": "code",
   "execution_count": 1,
   "metadata": {},
   "outputs": [],
   "source": [
    "import monte_carlo.montecarlo as mt\n",
    "import matplotlib.pyplot as plt\n",
    "import input_montecarlo as imt"
   ]
  },
  {
   "cell_type": "code",
   "execution_count": 7,
   "metadata": {},
   "outputs": [
    {
     "name": "stdout",
     "output_type": "stream",
     "text": [
      "Escolha o arquivo para upload\n",
      "As datas não estão no formato correto (YYYY-mm). Exemplo: 2020-04\n"
     ]
    }
   ],
   "source": [
    "imt.captura_arquivo()"
   ]
  }
 ],
 "metadata": {
  "kernelspec": {
   "display_name": "base",
   "language": "python",
   "name": "python3"
  },
  "language_info": {
   "codemirror_mode": {
    "name": "ipython",
    "version": 3
   },
   "file_extension": ".py",
   "mimetype": "text/x-python",
   "name": "python",
   "nbconvert_exporter": "python",
   "pygments_lexer": "ipython3",
   "version": "3.9.15 (main, Nov 24 2022, 14:39:17) [MSC v.1916 64 bit (AMD64)]"
  },
  "orig_nbformat": 4,
  "vscode": {
   "interpreter": {
    "hash": "ed9676846c878c224a8464e5f9393028f8964372026adbc040b4dd81c7461aff"
   }
  }
 },
 "nbformat": 4,
 "nbformat_minor": 2
}
