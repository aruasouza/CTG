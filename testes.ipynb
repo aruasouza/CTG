{
 "cells": [
  {
   "cell_type": "code",
   "execution_count": 6,
   "metadata": {},
   "outputs": [],
   "source": [
    "import models"
   ]
  },
  {
   "cell_type": "code",
   "execution_count": 7,
   "metadata": {},
   "outputs": [],
   "source": [
    "name = 'INFLACAO'\n",
    "file_name = 'INFLACAO_2022-12-19-16-38-27-184580.csv'\n",
    "directory = f'DataLakeRiscoECompliance/PrevisionData/Variables/{name}/AI'"
   ]
  },
  {
   "cell_type": "code",
   "execution_count": 8,
   "metadata": {},
   "outputs": [
    {
     "data": {
      "text/plain": [
       "<ADL Upload: output/INFLACAO_2022-12-19-16-38-27-184580.csv -> DataLakeRiscoECompliance\\PrevisionData\\Variables\\INFLACAO\\AI\\INFLACAO_2022-12-19-16-38-27-184580.csv ({'finished': 1})>"
      ]
     },
     "execution_count": 8,
     "metadata": {},
     "output_type": "execute_result"
    }
   ],
   "source": [
    "## Upload a file\n",
    "multithread.ADLUploader(adlsFileSystemClient, lpath='output/' + file_name, rpath=f'{directory}/{file_name}', nthreads=64, overwrite=True, buffersize=4194304, blocksize=4194304)"
   ]
  }
 ],
 "metadata": {
  "kernelspec": {
   "display_name": "venv",
   "language": "python",
   "name": "python3"
  },
  "language_info": {
   "codemirror_mode": {
    "name": "ipython",
    "version": 3
   },
   "file_extension": ".py",
   "mimetype": "text/x-python",
   "name": "python",
   "nbconvert_exporter": "python",
   "pygments_lexer": "ipython3",
   "version": "3.9.13"
  },
  "orig_nbformat": 4,
  "vscode": {
   "interpreter": {
    "hash": "f122b787773aea99a0f99708f92ebea7d277aabf6f7795a156c3126c673fb78f"
   }
  }
 },
 "nbformat": 4,
 "nbformat_minor": 2
}
