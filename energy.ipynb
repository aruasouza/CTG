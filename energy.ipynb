{
 "cells": [
  {
   "cell_type": "code",
   "execution_count": 15,
   "metadata": {},
   "outputs": [],
   "source": [
    "import pandas as pd\n",
    "from darts import TimeSeries\n",
    "from darts.dataprocessing.transformers import Scaler\n",
    "from darts.models.forecasting.tbats import TBATS\n",
    "from darts.models import BlockRNNModel\n",
    "import numpy as np\n",
    "import math\n",
    "from dateutil.relativedelta import relativedelta\n",
    "from pmdarima.arima import auto_arima\n",
    "from sklearn.ensemble import RandomForestRegressor"
   ]
  },
  {
   "cell_type": "code",
   "execution_count": 37,
   "metadata": {},
   "outputs": [],
   "source": [
    "class randomForestmodel:\n",
    "    def __init__(self,train):\n",
    "        train = train.copy()\n",
    "        self.last = train.values.ravel()[-1]\n",
    "        self.start_date = train.index[-1] + relativedelta(months = 1)\n",
    "        # train = train.diff().dropna()\n",
    "        train['mes'] = train.index.month\n",
    "        train['quarter'] = train.index.quarter\n",
    "        train['ano'] = train.index.year\n",
    "        x_values = train[['mes','quarter','ano']].values\n",
    "        y_train = train.drop(['mes','quarter','ano'],axis = 1).values.ravel()\n",
    "        self.model = RandomForestRegressor(max_depth=100, random_state=0).fit(x_values,y_train)\n",
    "    def predict(self,n):\n",
    "        datas = pd.date_range(start = self.start_date,periods = n,freq = 'm')\n",
    "        x_df = pd.DataFrame(index = datas)\n",
    "        x_df['mes'] = x_df.index.month\n",
    "        x_df['quarter'] = x_df.index.quarter\n",
    "        x_df['ano'] = x_df.index.year\n",
    "        x_values = x_df.values\n",
    "        return self.model.predict(x_values)"
   ]
  },
  {
   "cell_type": "code",
   "execution_count": 38,
   "metadata": {},
   "outputs": [],
   "source": [
    "class ARIMAmodel:\n",
    "    def __init__(self,train):\n",
    "        self.model = auto_arima(train, start_p=1, start_q=1,\n",
    "                        test='adf',\n",
    "                        max_p=5, max_q=5,\n",
    "                        m=1,             \n",
    "                        d=1,          \n",
    "                        seasonal=True,   \n",
    "                        start_P=0, \n",
    "                        D=None, \n",
    "                        trace=True,\n",
    "                        error_action='ignore',  \n",
    "                        suppress_warnings=True, \n",
    "                        stepwise=True)\n",
    "    def predict(self,n):\n",
    "        return self.model.predict(n_periods=n)"
   ]
  },
  {
   "cell_type": "code",
   "execution_count": 39,
   "metadata": {},
   "outputs": [],
   "source": [
    "class LSTM:\n",
    "    def __init__(self,main_serie,extra_series):\n",
    "        self.last = main_serie.values[-1]\n",
    "        self.data = TimeSeries.from_dataframe(main_serie)\n",
    "        self.extra_data = TimeSeries.from_dataframe(extra_series)\n",
    "        self.scaler_y = Scaler()\n",
    "        self.transformed_data = self.scaler_y.fit_transform(self.data)\n",
    "        self.scaler_x = Scaler()\n",
    "        self.transformed_extra_data = self.scaler_x.fit_transform(self.extra_data)\n",
    "    def fit(self,input_size,output_size):\n",
    "        self.model_cov = BlockRNNModel(\n",
    "            model = \"LSTM\",\n",
    "            input_chunk_length = input_size,\n",
    "            output_chunk_length = output_size,\n",
    "            n_epochs = 300,\n",
    "        )\n",
    "        self.model_cov.fit(\n",
    "            series = self.transformed_data,\n",
    "            past_covariates = self.transformed_extra_data,\n",
    "            verbose = False,\n",
    "        )\n",
    "        return self\n",
    "    def predict(self,n):\n",
    "        prediction = self.model_cov.predict(n = n,series = self.transformed_data, past_covariates = self.transformed_extra_data)\n",
    "        converted_prediction = self.scaler_y.inverse_transform(prediction).values().ravel()\n",
    "        difference = converted_prediction[0] - self.last\n",
    "        prediction_final = converted_prediction - difference\n",
    "        return prediction_final"
   ]
  },
  {
   "cell_type": "code",
   "execution_count": null,
   "metadata": {},
   "outputs": [],
   "source": []
  }
 ],
 "metadata": {
  "kernelspec": {
   "display_name": "versaoAnterior",
   "language": "python",
   "name": "python3"
  },
  "language_info": {
   "codemirror_mode": {
    "name": "ipython",
    "version": 3
   },
   "file_extension": ".py",
   "mimetype": "text/x-python",
   "name": "python",
   "nbconvert_exporter": "python",
   "pygments_lexer": "ipython3",
   "version": "3.7.11"
  },
  "orig_nbformat": 4,
  "vscode": {
   "interpreter": {
    "hash": "20e561beb06957fb7464a5fc259dbf11e9f633220521c1cc8cae595727d34a98"
   }
  }
 },
 "nbformat": 4,
 "nbformat_minor": 2
}
