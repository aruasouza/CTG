{
 "cells": [
  {
   "cell_type": "code",
   "execution_count": 2,
   "metadata": {},
   "outputs": [],
   "source": [
    "import pandas as pd\n",
    "import numpy as np\n",
    "from bcb import sgs\n",
    "from sklearn.metrics import mean_squared_error\n",
    "from statsmodels.tools.eval_measures import rmse\n",
    "from scipy.optimize import curve_fit\n",
    "from sklearn import linear_model"
   ]
  },
  {
   "cell_type": "code",
   "execution_count": 37,
   "metadata": {},
   "outputs": [],
   "source": [
    "def absolute(serie):\n",
    "    valor_atual = 1598.41\n",
    "    yield valor_atual\n",
    "    for valor in serie[1:]:\n",
    "        valor = valor / 100\n",
    "        valor_atual += (valor_atual * valor)\n",
    "        yield valor_atual\n",
    "\n",
    "def months_until_next_election(date_serie):\n",
    "    for date in date_serie:\n",
    "        year = date.year\n",
    "        years_until_next_election = abs(((year - 2) % 4) - 4)\n",
    "        if years_until_next_election == 4:\n",
    "            if date <= pd.to_datetime(f'{year}-10-01'):\n",
    "                years_until_next_election = 0\n",
    "        days_until_october = (pd.to_datetime(f'{year}-10-01') - date).days\n",
    "        yield int((days_until_october + (365 * years_until_next_election)) / 30.5)\n",
    "\n",
    "def get_indicators(start_date):\n",
    "    selic = sgs.get(('SELIC',432),start = start_date)\n",
    "    emprego = sgs.get(('emprego',28763),start = start_date)\n",
    "    dataframe = emprego.copy()\n",
    "    dataframe['emprego'] = dataframe['emprego'] / 100000000\n",
    "    dataframe['SELIC'] = selic['SELIC'] / 100\n",
    "    return dataframe"
   ]
  },
  {
   "cell_type": "code",
   "execution_count": 38,
   "metadata": {},
   "outputs": [
    {
     "data": {
      "text/plain": [
       "<AxesSubplot:xlabel='Date'>"
      ]
     },
     "execution_count": 38,
     "metadata": {},
     "output_type": "execute_result"
    },
    {
     "data": {
      "image/png": "[encoded data removed]",
      "text/plain": [
       "<Figure size 720x504 with 1 Axes>"
      ]
     },
     "metadata": {
      "needs_background": "light"
     },
     "output_type": "display_data"
    }
   ],
   "source": [
    "ipca = sgs.get(('IPCA',433),start = '2000-01-01')\n",
    "ipca = ipca.iloc[:-1]\n",
    "ipca['indice'] = [valor for valor in absolute(ipca['IPCA'].values)]\n",
    "del(ipca['IPCA'])\n",
    "# ipca['m_to_election'] = [valor for valor in months_until_next_election(ipca.index)]\n",
    "\n",
    "df = get_indicators('2000-01-01')\n",
    "df = df.iloc[:-1]\n",
    "\n",
    "ipca.indice.plot(figsize = (10, 7))"
   ]
  },
  {
   "cell_type": "code",
   "execution_count": 12,
   "metadata": {},
   "outputs": [],
   "source": [
    "from statsmodels.tsa.holtwinters import ExponentialSmoothing\n",
    "from sktime.forecasting.arima import AutoARIMA\n",
    "from pyGRNN import GRNN"
   ]
  },
  {
   "cell_type": "code",
   "execution_count": 14,
   "metadata": {},
   "outputs": [],
   "source": [
    "def square(x,a,b,c):\n",
    "    return ((x ** 2) * a) + (x * b) + c\n",
    "\n",
    "def linear(x,a,b):\n",
    "    return (x * a) + b\n",
    "\n",
    "def untrend(serie):\n",
    "    data = pd.DataFrame({'y':serie})\n",
    "    x_values = np.arange(len(serie))\n",
    "    popt = curve_fit(square,x_values,serie)[0]\n",
    "    data['trend'] = [square(x,*popt) for x in x_values]\n",
    "    data['no_trend'] = data['y'] - data['trend']\n",
    "    return data['no_trend'].values\n",
    "\n",
    "def train_test_split(xdata,ydata,horizonte):\n",
    "    meses = horizonte * 12\n",
    "    y_train,y_test = ydata.values[:-meses],ydata.values[-meses:]\n",
    "    x_train,x_test = xdata.values[-meses - len(y_train):-meses],xdata.values[-meses:]\n",
    "    return x_train,y_train.ravel(),x_test,y_test.ravel()\n",
    "\n",
    "class base_model:\n",
    "    def __init__(self,data,func):\n",
    "        self.data = data\n",
    "        self.func = func\n",
    "    def fit(self):\n",
    "        y = self.data\n",
    "        self.popt = curve_fit(self.func,list(range(len(y))),y)[0]\n",
    "        self.x0 = len(y)\n",
    "        self.last_y = y[-1]\n",
    "        return self\n",
    "    def predict(self,n):\n",
    "        prediction = np.array([self.func(x,*self.popt) for x in range(self.x0,self.x0 + n)])\n",
    "        diferenca = prediction[0] - self.last_y\n",
    "        return prediction - diferenca\n",
    "\n",
    "class modelo:\n",
    "    def __init__(self,name,ydata,xdata = None):\n",
    "        self.name = name\n",
    "        if name == 'holt':\n",
    "            self.model = ExponentialSmoothing(ydata,seasonal_periods = 12,trend = \"add\",seasonal = \"add\").fit(0,0,0)\n",
    "        if name == 'arima':\n",
    "            self.model = AutoARIMA(sp = 12,suppress_warnings = True).fit(ydata)\n",
    "        if self.name == 'grnn':\n",
    "            self.model = GRNN().fit(xdata,ydata)\n",
    "\n",
    "    def predict(self,n = None,data = None):\n",
    "        if self.name == 'holt':\n",
    "            return self.model.forecast(n)\n",
    "        if self.name == 'arima':\n",
    "            return self.model.predict(fh = list(range(1,n + 1))).ravel()\n",
    "        if self.name == 'grnn':\n",
    "            return self.model.predict(data)\n",
    "\n",
    "class GodModel:\n",
    "    def __init__(self,func,modelo,peso = 0.5):\n",
    "        self.peso = peso\n",
    "        self.func = func\n",
    "        self.name = modelo\n",
    "    \n",
    "    def fit(self,target_data,extra_data,time_features = None):\n",
    "        # Regressão linear das features secundarias\n",
    "        self.reg = linear_model.LinearRegression()\n",
    "        self.reg.fit(extra_data,target_data)\n",
    "        # Regressão polinomial no tempo\n",
    "        self.x0 = len(target_data)\n",
    "        self.features = range(len(extra_data[0]))\n",
    "        self.popts = [curve_fit(square,list(range(self.x0)),extra_data[:,i])[0] for i in self.features]\n",
    "        self.popts_main = curve_fit(self.func,list(range(self.x0)),target_data)[0]\n",
    "        # Sazonalidade\n",
    "        untrended = untrend(target_data)\n",
    "        self.model = modelo(self.name,untrended,time_features)\n",
    "        self.target_data = target_data\n",
    "        self.extra_data = extra_data\n",
    "        return self\n",
    "\n",
    "    def predict(self,n,time_features = None):\n",
    "        self.predictions = []\n",
    "        for i in self.features:\n",
    "            popt = self.popts[i]\n",
    "            prediction = np.array([square(x,*popt) for x in range(self.x0,self.x0 + n)])\n",
    "            partial_last_year_mean = self.extra_data[-12:,i].mean()\n",
    "            diferenca = partial_last_year_mean - prediction[0]\n",
    "            prediction = prediction + diferenca\n",
    "            self.predictions.append(prediction)\n",
    "        main_prediction = np.array([self.func(x,*self.popts_main) for x in range(self.x0,self.x0 + n)])\n",
    "        predictores = np.array(self.predictions).T\n",
    "        feat_prediction = self.reg.predict(predictores)\n",
    "        trend = (main_prediction * self.peso) + (feat_prediction * (1 - self.peso))\n",
    "        seasonality = self.model.predict(n,time_features)\n",
    "        prediction_final = trend + seasonality\n",
    "        # Ajustes finais\n",
    "        last_year_mean = self.target_data[-12:].mean()\n",
    "        diferenca = last_year_mean - prediction_final[0]\n",
    "        prediction_final = prediction_final + diferenca\n",
    "        micro_diferenca = self.target_data[-1] - prediction_final[0]\n",
    "        prediction_final = np.array([prediction_final[i] + (micro_diferenca * (1 - (i / (len(prediction_final) - 1)))) for i in range(len(prediction_final))])\n",
    "        return prediction_final"
   ]
  },
  {
   "cell_type": "code",
   "execution_count": 15,
   "metadata": {},
   "outputs": [
    {
     "name": "stdout",
     "output_type": "stream",
     "text": [
      "MSE: 22558.953370555282\n",
      "RMSE: 150.19638268132587\n"
     ]
    },
    {
     "data": {
      "text/plain": [
       "<AxesSubplot:xlabel='Date'>"
      ]
     },
     "execution_count": 15,
     "metadata": {},
     "output_type": "execute_result"
    },
    {
     "data": {
      "image/png": "[encoded data removed]",
      "text/plain": [
       "<Figure size 432x288 with 1 Axes>"
      ]
     },
     "metadata": {
      "needs_background": "light"
     },
     "output_type": "display_data"
    }
   ],
   "source": [
    "anos = 5\n",
    "func = square\n",
    "y_train,y_test = ipca['indice'].iloc[:-anos * 12].values,ipca['indice'].iloc[-anos * 12:].values\n",
    "model = base_model(y_train,func).fit()\n",
    "prediction = model.predict(12 * anos)\n",
    "print('MSE:',mean_squared_error(prediction,y_test))\n",
    "print('RMSE:',rmse(prediction,y_test))\n",
    "pred_df = ipca.copy()\n",
    "pred_df['prediction'] = [None for _ in range(len(pred_df) - len(prediction))] + list(prediction.ravel())\n",
    "pred_df['indice'].plot()\n",
    "pred_df['prediction'].plot()"
   ]
  },
  {
   "cell_type": "code",
   "execution_count": 40,
   "metadata": {},
   "outputs": [
    {
     "name": "stdout",
     "output_type": "stream",
     "text": [
      "MSE: 21916.63641479865\n",
      "RMSE: 148.0426844352623\n"
     ]
    },
    {
     "data": {
      "text/plain": [
       "<AxesSubplot:xlabel='Date'>"
      ]
     },
     "execution_count": 40,
     "metadata": {},
     "output_type": "execute_result"
    },
    {
     "data": {
      "image/png": "[encoded data removed]",
      "text/plain": [
       "<Figure size 432x288 with 1 Axes>"
      ]
     },
     "metadata": {
      "needs_background": "light"
     },
     "output_type": "display_data"
    }
   ],
   "source": [
    "anos = 5\n",
    "x_train,y_train,x_test,y_test = train_test_split(df,ipca['indice'],anos)\n",
    "model = GodModel(square,'holt',1).fit(y_train,x_train)\n",
    "prediction = model.predict(12 * anos)\n",
    "print('MSE:',mean_squared_error(prediction,y_test))\n",
    "print('RMSE:',rmse(prediction,y_test))\n",
    "pred_df = ipca.copy()\n",
    "pred_df['prediction'] = [None for _ in range(len(pred_df) - len(prediction))] + list(prediction.ravel())\n",
    "pred_df['indice'].plot()\n",
    "pred_df['prediction'].plot()"
   ]
  }
 ],
 "metadata": {
  "kernelspec": {
   "display_name": "Python 3.9.13 64-bit (microsoft store)",
   "language": "python",
   "name": "python3"
  },
  "language_info": {
   "codemirror_mode": {
    "name": "ipython",
    "version": 3
   },
   "file_extension": ".py",
   "mimetype": "text/x-python",
   "name": "python",
   "nbconvert_exporter": "python",
   "pygments_lexer": "ipython3",
   "version": "3.9.13"
  },
  "orig_nbformat": 4,
  "vscode": {
   "interpreter": {
    "hash": "9e20bd9f09795ae2e118d5cba8314aec8e63611a2972e8c59858a97afe5b6f6a"
   }
  }
 },
 "nbformat": 4,
 "nbformat_minor": 2
}
