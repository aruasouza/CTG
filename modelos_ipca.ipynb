{
 "cells": [
  {
   "cell_type": "code",
   "execution_count": 1,
   "metadata": {},
   "outputs": [],
   "source": [
    "import pandas as pd\n",
    "import numpy as np\n",
    "from bcb import sgs\n",
    "from sklearn.metrics import mean_squared_error\n",
    "from statsmodels.tools.eval_measures import rmse\n",
    "from scipy.optimize import curve_fit\n",
    "from sklearn import linear_model"
   ]
  },
  {
   "cell_type": "code",
   "execution_count": 2,
   "metadata": {},
   "outputs": [],
   "source": [
    "def absolute(serie):\n",
    "    valor_atual = 1598.41\n",
    "    yield valor_atual\n",
    "    for valor in serie[1:]:\n",
    "        valor = valor / 100\n",
    "        valor_atual += (valor_atual * valor)\n",
    "        yield valor_atual\n",
    "\n",
    "def months_until_next_election(date_serie):\n",
    "    for date in date_serie:\n",
    "        year = date.year\n",
    "        years_until_next_election = abs(((year - 2) % 4) - 4)\n",
    "        if years_until_next_election == 4:\n",
    "            if date <= pd.to_datetime(f'{year}-10-01'):\n",
    "                years_until_next_election = 0\n",
    "        days_until_october = (pd.to_datetime(f'{year}-10-01') - date).days\n",
    "        yield int((days_until_october + (365 * years_until_next_election)) / 30.5)\n",
    "\n",
    "def get_indicators(start_date):\n",
    "    dados = {'celic':432,'emprego':28763,'producao':21859,'comercio':1455,'energia':1406,'IPCA_change':433}\n",
    "    dataframe = sgs.get(dados,start = start_date)\n",
    "    dataframe = dataframe.fillna(method = 'bfill')\n",
    "    dataframe = dataframe.resample('m').mean()\n",
    "    dataframe['IPCA'] = [valor for valor in absolute(dataframe['IPCA_change'].values)]\n",
    "    del(dataframe['IPCA_change'])\n",
    "    dataframe = dataframe.dropna()\n",
    "    return dataframe"
   ]
  },
  {
   "cell_type": "code",
   "execution_count": 3,
   "metadata": {},
   "outputs": [
    {
     "data": {
      "text/plain": [
       "<AxesSubplot:xlabel='Date'>"
      ]
     },
     "execution_count": 3,
     "metadata": {},
     "output_type": "execute_result"
    },
    {
     "data": {
      "image/png": "[encoded data removed]",
      "text/plain": [
       "<Figure size 720x504 with 1 Axes>"
      ]
     },
     "metadata": {
      "needs_background": "light"
     },
     "output_type": "display_data"
    }
   ],
   "source": [
    "df = get_indicators('2000-01-01')\n",
    "ipca = df[['IPCA']].copy()\n",
    "ipca = ipca.rename({'IPCA':'indice'},axis = 1)\n",
    "df = df.drop(['IPCA'],axis = 1)\n",
    "ipca.indice.plot(figsize = (10, 7))"
   ]
  },
  {
   "cell_type": "code",
   "execution_count": 41,
   "metadata": {},
   "outputs": [],
   "source": [
    "from statsmodels.tsa.holtwinters import ExponentialSmoothing\n",
    "from sktime.forecasting.arima import AutoARIMA\n",
    "from pyGRNN import GRNN"
   ]
  },
  {
   "cell_type": "code",
   "execution_count": 42,
   "metadata": {},
   "outputs": [],
   "source": [
    "def square(x,a,b,c):\n",
    "    return ((x ** 2) * a) + (x * b) + c\n",
    "\n",
    "def linear(x,a,b):\n",
    "    return (x * a) + b\n",
    "\n",
    "def untrend(serie):\n",
    "    data = pd.DataFrame({'y':serie})\n",
    "    x_values = np.arange(len(serie))\n",
    "    popt = curve_fit(square,x_values,serie)[0]\n",
    "    data['trend'] = [square(x,*popt) for x in x_values]\n",
    "    data['no_trend'] = data['y'] - data['trend']\n",
    "    return data['no_trend'].values\n",
    "\n",
    "def train_test_split(xdata,ydata,horizonte):\n",
    "    meses = horizonte * 12\n",
    "    y_train,y_test = ydata.values[:-meses],ydata.values[-meses:]\n",
    "    x_train,x_test = xdata.values[-meses - len(y_train):-meses],xdata.values[-meses:]\n",
    "    return x_train,y_train.ravel(),x_test,y_test.ravel()\n",
    "\n",
    "class base_model:\n",
    "    def __init__(self,data,func):\n",
    "        self.data = data\n",
    "        self.func = func\n",
    "    def fit(self):\n",
    "        y = self.data\n",
    "        self.popt = curve_fit(self.func,list(range(len(y))),y)[0]\n",
    "        self.x0 = len(y)\n",
    "        self.last_y = y[-1]\n",
    "        return self\n",
    "    def predict(self,n):\n",
    "        prediction = np.array([self.func(x,*self.popt) for x in range(self.x0,self.x0 + n)])\n",
    "        diferenca = prediction[0] - self.last_y\n",
    "        return prediction - diferenca\n",
    "\n",
    "class modelo:\n",
    "    def __init__(self,name,ydata,xdata = None):\n",
    "        self.name = name\n",
    "        if name == 'holt':\n",
    "            self.model = ExponentialSmoothing(ydata,seasonal_periods = 12,trend = \"add\",seasonal = \"add\").fit(0,0,0)\n",
    "        if name == 'arima':\n",
    "            self.model = AutoARIMA(sp = 12,suppress_warnings = True).fit(ydata)\n",
    "        if self.name == 'grnn':\n",
    "            self.model = GRNN().fit(xdata,ydata)\n",
    "\n",
    "    def predict(self,n = None,data = None):\n",
    "        if self.name == 'holt':\n",
    "            return self.model.forecast(n)\n",
    "        if self.name == 'arima':\n",
    "            return self.model.predict(fh = list(range(1,n + 1))).ravel()\n",
    "        if self.name == 'grnn':\n",
    "            return self.model.predict(data)\n",
    "\n",
    "class GodModel:\n",
    "    def __init__(self,func,modelo,peso = 0.5):\n",
    "        self.peso = peso\n",
    "        self.func = func\n",
    "        self.name = modelo\n",
    "    \n",
    "    def fit(self,target_data,extra_data,time_features = None):\n",
    "        # Regressão linear das features secundarias\n",
    "        self.reg = linear_model.LinearRegression()\n",
    "        self.reg.fit(extra_data,target_data)\n",
    "        # Regressão polinomial no tempo\n",
    "        self.x0 = len(target_data)\n",
    "        self.features = range(len(extra_data[0]))\n",
    "        self.popts = [curve_fit(square,list(range(self.x0)),extra_data[:,i])[0] for i in self.features]\n",
    "        self.popts_main = curve_fit(self.func,list(range(self.x0)),target_data)[0]\n",
    "        # Sazonalidade\n",
    "        untrended = untrend(target_data)\n",
    "        self.model = modelo(self.name,untrended,time_features)\n",
    "        self.target_data = target_data\n",
    "        self.extra_data = extra_data\n",
    "        return self\n",
    "\n",
    "    def predict(self,n,time_features = None):\n",
    "        self.predictions = []\n",
    "        for i in self.features:\n",
    "            popt = self.popts[i]\n",
    "            prediction = np.array([square(x,*popt) for x in range(self.x0,self.x0 + n)])\n",
    "            partial_last_year_mean = self.extra_data[-12:,i].mean()\n",
    "            diferenca = partial_last_year_mean - prediction[0]\n",
    "            prediction = prediction + diferenca\n",
    "            self.predictions.append(prediction)\n",
    "        main_prediction = np.array([self.func(x,*self.popts_main) for x in range(self.x0,self.x0 + n)])\n",
    "        predictores = np.array(self.predictions).T\n",
    "        feat_prediction = self.reg.predict(predictores)\n",
    "        trend = (main_prediction * self.peso) + (feat_prediction * (1 - self.peso))\n",
    "        seasonality = self.model.predict(n,time_features)\n",
    "        prediction_final = trend + seasonality\n",
    "        # Ajustes finais\n",
    "        last_year_mean = self.target_data[-12:].mean()\n",
    "        diferenca = last_year_mean - prediction_final[0]\n",
    "        prediction_final = prediction_final + diferenca\n",
    "        micro_diferenca = self.target_data[-1] - prediction_final[0]\n",
    "        prediction_final = np.array([prediction_final[i] + (micro_diferenca * (1 - (i / (len(prediction_final) - 1)))) for i in range(len(prediction_final))])\n",
    "        return prediction_final"
   ]
  },
  {
   "cell_type": "code",
   "execution_count": 43,
   "metadata": {},
   "outputs": [
    {
     "name": "stdout",
     "output_type": "stream",
     "text": [
      "MSE: 22617.934668968413\n",
      "RMSE: 150.3926017760462\n"
     ]
    },
    {
     "data": {
      "text/plain": [
       "<AxesSubplot:xlabel='Date'>"
      ]
     },
     "execution_count": 43,
     "metadata": {},
     "output_type": "execute_result"
    },
    {
     "data": {
      "image/png": "[encoded data removed]",
      "text/plain": [
       "<Figure size 432x288 with 1 Axes>"
      ]
     },
     "metadata": {
      "needs_background": "light"
     },
     "output_type": "display_data"
    }
   ],
   "source": [
    "anos = 5\n",
    "func = square\n",
    "y_train,y_test = ipca['indice'].iloc[:-anos * 12].values,ipca['indice'].iloc[-anos * 12:].values\n",
    "model = base_model(y_train,func).fit()\n",
    "prediction = model.predict(12 * anos)\n",
    "print('MSE:',mean_squared_error(prediction,y_test))\n",
    "print('RMSE:',rmse(prediction,y_test))\n",
    "pred_df = ipca.copy()\n",
    "pred_df['prediction'] = [None for _ in range(len(pred_df) - len(prediction))] + list(prediction.ravel())\n",
    "pred_df['indice'].plot()\n",
    "pred_df['prediction'].plot()"
   ]
  },
  {
   "cell_type": "code",
   "execution_count": 49,
   "metadata": {},
   "outputs": [
    {
     "name": "stdout",
     "output_type": "stream",
     "text": [
      "MSE: 67681.07160490018\n",
      "RMSE: 260.15586021633294\n"
     ]
    },
    {
     "data": {
      "text/plain": [
       "<AxesSubplot:xlabel='Date'>"
      ]
     },
     "execution_count": 49,
     "metadata": {},
     "output_type": "execute_result"
    },
    {
     "data": {
      "image/png": "[encoded data removed]",
      "text/plain": [
       "<Figure size 432x288 with 1 Axes>"
      ]
     },
     "metadata": {
      "needs_background": "light"
     },
     "output_type": "display_data"
    }
   ],
   "source": [
    "anos = 5\n",
    "x_train,y_train,x_test,y_test = train_test_split(df,ipca['indice'],anos)\n",
    "model = GodModel(square,'holt',0).fit(y_train,x_train)\n",
    "prediction = model.predict(12 * anos)\n",
    "print('MSE:',mean_squared_error(prediction,y_test))\n",
    "print('RMSE:',rmse(prediction,y_test))\n",
    "pred_df = ipca.copy()\n",
    "pred_df['prediction'] = [None for _ in range(len(pred_df) - len(prediction))] + list(prediction.ravel())\n",
    "pred_df['indice'].plot()\n",
    "pred_df['prediction'].plot()"
   ]
  },
  {
   "cell_type": "code",
   "execution_count": 5,
   "metadata": {},
   "outputs": [],
   "source": [
    "import pandas as pd\n",
    "import numpy as np\n",
    "import matplotlib.pyplot as plt\n",
    "\n",
    "from darts import TimeSeries\n",
    "from darts.utils.timeseries_generation import (\n",
    "    gaussian_timeseries,\n",
    "    linear_timeseries,\n",
    "    sine_timeseries,\n",
    ")\n",
    "from darts.models import (\n",
    "    RNNModel,\n",
    "    TCNModel,\n",
    "    TransformerModel,\n",
    "    NBEATSModel,\n",
    "    BlockRNNModel,\n",
    ")\n",
    "from darts.metrics import mape, smape\n",
    "from darts.dataprocessing.transformers import Scaler\n",
    "from darts.utils.timeseries_generation import datetime_attribute_timeseries"
   ]
  },
  {
   "cell_type": "code",
   "execution_count": 6,
   "metadata": {},
   "outputs": [],
   "source": [
    "timeseries = TimeSeries.from_dataframe(ipca)\n",
    "extra_variables = TimeSeries.from_dataframe(df)"
   ]
  },
  {
   "cell_type": "code",
   "execution_count": 37,
   "metadata": {},
   "outputs": [],
   "source": [
    "scaler_y = Scaler()\n",
    "scaled_serie = scaler_y.fit_transform(timeseries)\n",
    "scaler_x = Scaler()\n",
    "scaled_covariates = scaler_x.fit_transform(extra_variables)"
   ]
  },
  {
   "cell_type": "code",
   "execution_count": 40,
   "metadata": {},
   "outputs": [],
   "source": [
    "anos = 5\n",
    "train = scaled_serie[:-12 * anos]\n",
    "cov_train = scaled_covariates[:-12 * anos]"
   ]
  },
  {
   "cell_type": "code",
   "execution_count": 46,
   "metadata": {},
   "outputs": [],
   "source": [
    "model_cov = BlockRNNModel(\n",
    "    model=\"LSTM\",\n",
    "    input_chunk_length=24,\n",
    "    output_chunk_length=12 * anos,\n",
    "    n_epochs=300,\n",
    "    random_state=0,\n",
    ")"
   ]
  },
  {
   "cell_type": "code",
   "execution_count": 47,
   "metadata": {},
   "outputs": [
    {
     "name": "stderr",
     "output_type": "stream",
     "text": [
      "2022-12-06 17:01:17 darts.models.forecasting.torch_forecasting_model INFO: Train dataset contains 130 samples.\n",
      "2022-12-06 17:01:17 darts.models.forecasting.torch_forecasting_model INFO: Time series values are 64-bits; casting model to float64.\n",
      "2022-12-06 17:01:17 pytorch_lightning.utilities.rank_zero INFO: GPU available: False, used: False\n",
      "2022-12-06 17:01:17 pytorch_lightning.utilities.rank_zero INFO: TPU available: False, using: 0 TPU cores\n",
      "2022-12-06 17:01:17 pytorch_lightning.utilities.rank_zero INFO: IPU available: False, using: 0 IPUs\n",
      "2022-12-06 17:01:17 pytorch_lightning.utilities.rank_zero INFO: HPU available: False, using: 0 HPUs\n",
      "2022-12-06 17:01:17 pytorch_lightning.callbacks.model_summary INFO: \n",
      "  | Name          | Type             | Params\n",
      "---------------------------------------------------\n",
      "0 | criterion     | MSELoss          | 0     \n",
      "1 | train_metrics | MetricCollection | 0     \n",
      "2 | val_metrics   | MetricCollection | 0     \n",
      "3 | rnn           | LSTM             | 3.3 K \n",
      "4 | fc            | Sequential       | 1.6 K \n",
      "---------------------------------------------------\n",
      "4.9 K     Trainable params\n",
      "0         Non-trainable params\n",
      "4.9 K     Total params\n",
      "0.039     Total estimated model params size (MB)\n"
     ]
    },
    {
     "name": "stdout",
     "output_type": "stream",
     "text": [
      "Epoch 299: 100%|██████████| 5/5 [00:00<00:00, 38.76it/s, loss=6.14e-05, train_loss=5.88e-5] \n"
     ]
    },
    {
     "data": {
      "text/plain": [
       "<darts.models.forecasting.block_rnn_model.BlockRNNModel at 0x18aba436a08>"
      ]
     },
     "execution_count": 47,
     "metadata": {},
     "output_type": "execute_result"
    }
   ],
   "source": [
    "model_cov.fit(\n",
    "    series=train,\n",
    "    past_covariates=cov_train,\n",
    "    verbose=True,\n",
    ")"
   ]
  },
  {
   "cell_type": "code",
   "execution_count": 48,
   "metadata": {},
   "outputs": [
    {
     "name": "stdout",
     "output_type": "stream",
     "text": [
      "Predicting DataLoader 0: 100%|██████████| 1/1 [00:00<00:00, -7.42it/s]   \n"
     ]
    },
    {
     "data": {
      "text/plain": [
       "<matplotlib.legend.Legend at 0x18aba46bb48>"
      ]
     },
     "execution_count": 48,
     "metadata": {},
     "output_type": "execute_result"
    },
    {
     "data": {
      "image/png": "[encoded data removed]",
      "text/plain": [
       "<Figure size 432x288 with 1 Axes>"
      ]
     },
     "metadata": {
      "needs_background": "light"
     },
     "output_type": "display_data"
    }
   ],
   "source": [
    "pred_cov = model_cov.predict(n=12 * anos, series=train, past_covariates=cov_train)\n",
    "\n",
    "scaled_serie.plot(label=\"actual\")\n",
    "pred_cov.plot(label=\"forecast\")\n",
    "plt.legend()"
   ]
  }
 ],
 "metadata": {
  "kernelspec": {
   "display_name": "Python 3.7.11 ('versaoAnterior')",
   "language": "python",
   "name": "python3"
  },
  "language_info": {
   "codemirror_mode": {
    "name": "ipython",
    "version": 3
   },
   "file_extension": ".py",
   "mimetype": "text/x-python",
   "name": "python",
   "nbconvert_exporter": "python",
   "pygments_lexer": "ipython3",
   "version": "3.7.11 (default, Jul 27 2021, 09:42:29) [MSC v.1916 64 bit (AMD64)]"
  },
  "orig_nbformat": 4,
  "vscode": {
   "interpreter": {
    "hash": "20e561beb06957fb7464a5fc259dbf11e9f633220521c1cc8cae595727d34a98"
   }
  }
 },
 "nbformat": 4,
 "nbformat_minor": 2
}
