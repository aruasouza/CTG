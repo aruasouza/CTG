{
 "cells": [
  {
   "cell_type": "code",
   "execution_count": 4,
   "metadata": {},
   "outputs": [],
   "source": [
    "import pandas as pd\n",
    "import numpy as np\n",
    "import matplotlib.pyplot as plt\n",
    "from bcb import sgs,currency\n",
    "from fredapi import Fred\n",
    "from sklearn.metrics import mean_squared_error\n",
    "from statsmodels.tools.eval_measures import rmse\n",
    "from datetime import date,timedelta\n",
    "from dateutil.relativedelta import relativedelta\n",
    "from scipy.optimize import curve_fit\n",
    "from darts import TimeSeries\n",
    "from darts.models import BlockRNNModel\n",
    "from darts.dataprocessing.transformers import Scaler"
   ]
  },
  {
   "cell_type": "code",
   "execution_count": 5,
   "metadata": {},
   "outputs": [],
   "source": [
    "api_key = '5beeb88b7a5cdd7d4fd8b976e138b52e'\n",
    "fred = Fred(api_key = api_key)"
   ]
  },
  {
   "cell_type": "code",
   "execution_count": 6,
   "metadata": {},
   "outputs": [],
   "source": [
    "# Função que converte a variação mensal do IPCA em IPCA absoluto (A série de ipca deve começar em janeiro de 2000)\n",
    "def absolute(serie):\n",
    "    valor_atual = 1598.41\n",
    "    yield valor_atual\n",
    "    for valor in serie[1:]:\n",
    "        valor = valor / 100\n",
    "        valor_atual += (valor_atual * valor)\n",
    "        yield valor_atual\n",
    "\n",
    "# Função que puxa as séries temporais usadas pra prever o IPCA\n",
    "def get_indicators_ipca(start_date):\n",
    "    dados = {'selic':432,'emprego':28763,'producao':21859,'comercio':1455,'energia':1406,'IPCA_change':433}\n",
    "    dataframe = sgs.get(dados,start = start_date)\n",
    "    dataframe = dataframe.resample('m').mean()\n",
    "    dataframe['indice'] = [valor for valor in absolute(dataframe['IPCA_change'].values)]\n",
    "    del(dataframe['IPCA_change'])\n",
    "    dataframe = dataframe.dropna()\n",
    "    return dataframe\n",
    "\n",
    "# Função que separa os dados em treino e teste\n",
    "def train_test_split(xdata,ydata,horizonte):\n",
    "    meses = horizonte * 12\n",
    "    y_train,y_test = ydata.iloc[:-meses],ydata.iloc[-meses:]\n",
    "    x_train,x_test = xdata.iloc[-meses - len(y_train):-meses],xdata.iloc[-meses:]\n",
    "    return x_train,y_train,x_test,y_test\n",
    "\n",
    "# Função que puxa os dados usados pra prever o câmbio\n",
    "def get_indicators_cambio(start_date):\n",
    "    dados = {'selic':432,'emprego':28763,'ipca':13522,'pib':1208}\n",
    "    dataframe = sgs.get(dados,start = start_date)\n",
    "    cy = currency.get('USD', start = start_date,end = str(date.today()))\n",
    "    dataframe['cambio'] = cy['USD']\n",
    "    gdp_eua = fred.get_series(series_id = 'GDPC1',observation_start = start_date)\n",
    "    cpi = fred.get_series(series_id = 'USACPIALLMINMEI',observation_start = f'{int(start_date[:4]) - 1}{start_date[4:]}')\n",
    "    inflacion_rate = pd.Series(data = (cpi.values[12:] - cpi.values[:-12]) / cpi.values[:-12],index = cpi.iloc[12:].index)\n",
    "    employment = fred.get_series(series_id = 'CE16OV',observation_start = start_date)\n",
    "    interest = fred.get_series(series_id = 'INTDSRUSM193N',observation_start = start_date)\n",
    "    dataframe['pib_eua'] = gdp_eua\n",
    "    dataframe['cpi'] = inflacion_rate\n",
    "    dataframe['employment'] = employment\n",
    "    dataframe['interest_rates'] = interest\n",
    "    dataframe = dataframe.fillna(method = 'ffill')\n",
    "    dataframe = dataframe.resample('m').mean()\n",
    "    return dataframe.iloc[:-2]\n"
   ]
  },
  {
   "cell_type": "code",
   "execution_count": 7,
   "metadata": {},
   "outputs": [],
   "source": [
    "# Classe utilizada para criar o modelo LSTM (IPCA)\n",
    "class LSTM:\n",
    "    def __init__(self,main_serie,extra_series):\n",
    "        self.last = main_serie.values[-1]\n",
    "        self.data = TimeSeries.from_dataframe(main_serie)\n",
    "        self.extra_data = TimeSeries.from_dataframe(extra_series)\n",
    "        self.scaler_y = Scaler()\n",
    "        self.transformed_data = self.scaler_y.fit_transform(self.data)\n",
    "        self.scaler_x = Scaler()\n",
    "        self.transformed_extra_data = self.scaler_x.fit_transform(self.extra_data)\n",
    "    def fit(self,input_size,output_size):\n",
    "        self.model_cov = BlockRNNModel(\n",
    "            model = \"LSTM\",\n",
    "            input_chunk_length = input_size,\n",
    "            output_chunk_length = output_size,\n",
    "            n_epochs = 300,\n",
    "        )\n",
    "        self.model_cov.fit(\n",
    "            series = self.transformed_data,\n",
    "            past_covariates = self.transformed_extra_data,\n",
    "            verbose = False,\n",
    "        )\n",
    "        return self\n",
    "    def predict(self,n):\n",
    "        prediction = self.model_cov.predict(n = n,series = self.transformed_data, past_covariates = self.transformed_extra_data)\n",
    "        converted_prediction = self.scaler_y.inverse_transform(prediction).values().ravel()\n",
    "        difference = converted_prediction[0] - self.last\n",
    "        prediction_final = converted_prediction - difference\n",
    "        return prediction_final"
   ]
  },
  {
   "cell_type": "code",
   "execution_count": 8,
   "metadata": {},
   "outputs": [],
   "source": [
    "# Função otilizada para aproximar a curva de câmbio\n",
    "def simple_square(x,a):\n",
    "    return (x ** 2) * a\n",
    "\n",
    "# Classe utilizada para criar o modelo de regressão + LSTM para o câmbio\n",
    "class RegressionPlusLSTM:\n",
    "    def __init__(self,target_data,extra_data):\n",
    "        self.func = simple_square\n",
    "        self.target_data = target_data\n",
    "        self.extra_data = extra_data\n",
    "        self.values = target_data.values.ravel()\n",
    "        self.x0 = len(target_data)\n",
    "    \n",
    "    def fit(self,input_size,output_size):\n",
    "        # Regressão polinomial no tempo\n",
    "        self.popt = curve_fit(self.func,list(range(self.x0)),self.values)[0]\n",
    "        # Sazonalidade\n",
    "        self.lstm = LSTM(self.target_data,self.extra_data).fit(input_size,output_size)\n",
    "        return self\n",
    "\n",
    "    def predict(self,n,peso):\n",
    "        self.peso = peso\n",
    "        trend_prediction = np.array([self.func(x,*self.popt) for x in range(self.x0,self.x0 + n)])\n",
    "        secondary_prediction = self.lstm.predict(n)\n",
    "        prediction_final = (trend_prediction * self.peso) + (secondary_prediction * (1 - self.peso))\n",
    "        # Ajustes finais\n",
    "        last_year_mean = self.values[-12:].mean()\n",
    "        diferenca = last_year_mean - prediction_final[0]\n",
    "        prediction_final = prediction_final + diferenca\n",
    "        micro_diferenca = self.values[-1] - prediction_final[0]\n",
    "        prediction_final = np.array([prediction_final[i] + (micro_diferenca * (1 - (i / (len(prediction_final) - 1)))) for i in range(len(prediction_final))])\n",
    "        return prediction_final"
   ]
  },
  {
   "attachments": {},
   "cell_type": "markdown",
   "metadata": {},
   "source": [
    "## IPCA"
   ]
  },
  {
   "cell_type": "code",
   "execution_count": 9,
   "metadata": {},
   "outputs": [],
   "source": [
    "# Puxando os dados de IPCA\n",
    "df = get_indicators_ipca('2000-01-01')\n",
    "ipca = df[['indice']].copy()\n",
    "df = df.drop(['indice'],axis = 1)"
   ]
  },
  {
   "cell_type": "code",
   "execution_count": 10,
   "metadata": {},
   "outputs": [
    {
     "name": "stderr",
     "output_type": "stream",
     "text": [
      "2022-12-08 16:13:47 darts.models.forecasting.torch_forecasting_model INFO: Train dataset contains 106 samples.\n",
      "2022-12-08 16:13:47 darts.models.forecasting.torch_forecasting_model INFO: Time series values are 64-bits; casting model to float64.\n",
      "2022-12-08 16:13:47 pytorch_lightning.utilities.rank_zero INFO: GPU available: False, used: False\n",
      "2022-12-08 16:13:47 pytorch_lightning.utilities.rank_zero INFO: TPU available: False, using: 0 TPU cores\n",
      "2022-12-08 16:13:47 pytorch_lightning.utilities.rank_zero INFO: IPU available: False, using: 0 IPUs\n",
      "2022-12-08 16:13:47 pytorch_lightning.utilities.rank_zero INFO: HPU available: False, using: 0 HPUs\n"
     ]
    }
   ],
   "source": [
    "# Treinando o modelo de IPCA\n",
    "anos = 5\n",
    "x_train,y_train,x_test,y_test = train_test_split(df,ipca,anos)\n",
    "model = LSTM(y_train,x_train).fit(24,12 * anos)"
   ]
  },
  {
   "cell_type": "code",
   "execution_count": 11,
   "metadata": {},
   "outputs": [
    {
     "name": "stdout",
     "output_type": "stream",
     "text": [
      "MSE: 16321.122551683606\n"
     ]
    }
   ],
   "source": [
    "# Calculando o Erro\n",
    "prediction = model.predict(12 * anos)\n",
    "print('MSE:',mean_squared_error(prediction,y_test))\n",
    "pred_df = ipca.copy()\n",
    "pred_df['prediction'] = [None for _ in range(len(pred_df) - len(prediction))] + list(prediction)\n",
    "pred_df['res'] = ((pred_df['indice'] - pred_df['prediction']) / pred_df['indice']).apply(abs)\n",
    "pred = pred_df.dropna()\n",
    "res_max = pred['res'].max()"
   ]
  },
  {
   "cell_type": "code",
   "execution_count": 12,
   "metadata": {},
   "outputs": [
    {
     "name": "stderr",
     "output_type": "stream",
     "text": [
      "2022-12-08 16:15:16 darts.models.forecasting.torch_forecasting_model INFO: Train dataset contains 166 samples.\n",
      "2022-12-08 16:15:16 darts.models.forecasting.torch_forecasting_model INFO: Time series values are 64-bits; casting model to float64.\n",
      "2022-12-08 16:15:16 pytorch_lightning.utilities.rank_zero INFO: GPU available: False, used: False\n",
      "2022-12-08 16:15:16 pytorch_lightning.utilities.rank_zero INFO: TPU available: False, using: 0 TPU cores\n",
      "2022-12-08 16:15:16 pytorch_lightning.utilities.rank_zero INFO: IPU available: False, using: 0 IPUs\n",
      "2022-12-08 16:15:16 pytorch_lightning.utilities.rank_zero INFO: HPU available: False, using: 0 HPUs\n"
     ]
    }
   ],
   "source": [
    "# Treinando novamente o modelo e calculando o Forecast\n",
    "model = LSTM(ipca,df).fit(24,12 * anos)\n",
    "ipca_forecast = model.predict(12 * anos)"
   ]
  },
  {
   "attachments": {},
   "cell_type": "markdown",
   "metadata": {},
   "source": [
    "## Câmbio"
   ]
  },
  {
   "cell_type": "code",
   "execution_count": 13,
   "metadata": {},
   "outputs": [],
   "source": [
    "# Puxando os dados de câmbio\n",
    "df = get_indicators_cambio('2000-01-01')\n",
    "cambio = df[['cambio']].copy()\n",
    "df = df.drop(['cambio'],axis = 1)"
   ]
  },
  {
   "cell_type": "code",
   "execution_count": 14,
   "metadata": {},
   "outputs": [
    {
     "name": "stderr",
     "output_type": "stream",
     "text": [
      "2022-12-08 16:18:15 darts.models.forecasting.torch_forecasting_model INFO: Train dataset contains 119 samples.\n",
      "2022-12-08 16:18:15 darts.models.forecasting.torch_forecasting_model INFO: Time series values are 64-bits; casting model to float64.\n",
      "2022-12-08 16:18:15 pytorch_lightning.utilities.rank_zero INFO: GPU available: False, used: False\n",
      "2022-12-08 16:18:15 pytorch_lightning.utilities.rank_zero INFO: TPU available: False, using: 0 TPU cores\n",
      "2022-12-08 16:18:15 pytorch_lightning.utilities.rank_zero INFO: IPU available: False, using: 0 IPUs\n",
      "2022-12-08 16:18:15 pytorch_lightning.utilities.rank_zero INFO: HPU available: False, using: 0 HPUs\n"
     ]
    }
   ],
   "source": [
    "# Treinando o modelo de IPCA\n",
    "anos = 5\n",
    "x_train,y_train,x_test,y_test = train_test_split(df,cambio,anos)\n",
    "model = RegressionPlusLSTM(y_train,x_train).fit(36,12 * anos)"
   ]
  },
  {
   "cell_type": "code",
   "execution_count": 15,
   "metadata": {},
   "outputs": [
    {
     "name": "stdout",
     "output_type": "stream",
     "text": [
      "MSE: 0.6287442364096164\n"
     ]
    }
   ],
   "source": [
    "# Calculando o Erro\n",
    "prediction = model.predict(12 * anos,0.6)\n",
    "print('MSE:',mean_squared_error(prediction,y_test))\n",
    "pred_df = cambio.copy()\n",
    "pred_df['prediction'] = [None for _ in range(len(pred_df) - len(prediction))] + list(prediction)\n",
    "pred_df['res'] = ((pred_df['cambio'] - pred_df['prediction']) / pred_df['cambio']).apply(abs)\n",
    "pred = pred_df.dropna()\n",
    "res_max = pred['res'].max()"
   ]
  },
  {
   "cell_type": "code",
   "execution_count": 16,
   "metadata": {},
   "outputs": [
    {
     "name": "stderr",
     "output_type": "stream",
     "text": [
      "2022-12-08 16:19:20 darts.models.forecasting.torch_forecasting_model INFO: Train dataset contains 179 samples.\n",
      "2022-12-08 16:19:20 darts.models.forecasting.torch_forecasting_model INFO: Time series values are 64-bits; casting model to float64.\n",
      "2022-12-08 16:19:20 pytorch_lightning.utilities.rank_zero INFO: GPU available: False, used: False\n",
      "2022-12-08 16:19:20 pytorch_lightning.utilities.rank_zero INFO: TPU available: False, using: 0 TPU cores\n",
      "2022-12-08 16:19:20 pytorch_lightning.utilities.rank_zero INFO: IPU available: False, using: 0 IPUs\n",
      "2022-12-08 16:19:20 pytorch_lightning.utilities.rank_zero INFO: HPU available: False, using: 0 HPUs\n"
     ]
    }
   ],
   "source": [
    "# Treinando novamente o modelo e calculando o forecast\n",
    "model = RegressionPlusLSTM(cambio,df).fit(36,12 * anos)\n",
    "cambio_forecast = model.predict(12 * anos,0.6)"
   ]
  }
 ],
 "metadata": {
  "kernelspec": {
   "display_name": "Python 3.7.11 ('versaoAnterior')",
   "language": "python",
   "name": "python3"
  },
  "language_info": {
   "codemirror_mode": {
    "name": "ipython",
    "version": 3
   },
   "file_extension": ".py",
   "mimetype": "text/x-python",
   "name": "python",
   "nbconvert_exporter": "python",
   "pygments_lexer": "ipython3",
   "version": "3.7.11 (default, Jul 27 2021, 09:42:29) [MSC v.1916 64 bit (AMD64)]"
  },
  "orig_nbformat": 4,
  "vscode": {
   "interpreter": {
    "hash": "20e561beb06957fb7464a5fc259dbf11e9f633220521c1cc8cae595727d34a98"
   }
  }
 },
 "nbformat": 4,
 "nbformat_minor": 2
}
